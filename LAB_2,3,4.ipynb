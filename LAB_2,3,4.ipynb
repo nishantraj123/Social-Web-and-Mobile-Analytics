{
  "nbformat": 4,
  "nbformat_minor": 0,
  "metadata": {
    "colab": {
      "name": "LAB_2,3,4.ipynb",
      "provenance": [],
      "collapsed_sections": [],
      "include_colab_link": true
    },
    "kernelspec": {
      "name": "python3",
      "display_name": "Python 3"
    },
    "language_info": {
      "name": "python"
    }
  },
  "cells": [
    {
      "cell_type": "markdown",
      "metadata": {
        "id": "view-in-github",
        "colab_type": "text"
      },
      "source": [
        "<a href=\"https://colab.research.google.com/github/nishantraj123/Social-Web-and-Mobile-Analytics/blob/main/LAB_2%2C3%2C4.ipynb\" target=\"_parent\"><img src=\"https://colab.research.google.com/assets/colab-badge.svg\" alt=\"Open In Colab\"/></a>"
      ]
    },
    {
      "cell_type": "markdown",
      "source": [
        "# **EXPERIMENT:-2**"
      ],
      "metadata": {
        "id": "CuQt3SRWCodi"
      }
    },
    {
      "cell_type": "markdown",
      "source": [
        "Nishant Raj<br>\n",
        "R103218183<br>\n",
        "500070098<br>\n",
        "CSE_BAO(6th sem)"
      ],
      "metadata": {
        "id": "zPylugeAg7mg"
      }
    },
    {
      "cell_type": "code",
      "source": [
        "!pip install tweepy"
      ],
      "metadata": {
        "colab": {
          "base_uri": "https://localhost:8080/"
        },
        "id": "UJTtfNtr1zp7",
        "outputId": "7ce6d4b5-46bc-4b5b-da87-df37df4b7d80"
      },
      "execution_count": null,
      "outputs": [
        {
          "output_type": "stream",
          "name": "stdout",
          "text": [
            "Requirement already satisfied: tweepy in /usr/local/lib/python3.7/dist-packages (3.10.0)\n",
            "Requirement already satisfied: requests[socks]>=2.11.1 in /usr/local/lib/python3.7/dist-packages (from tweepy) (2.23.0)\n",
            "Requirement already satisfied: six>=1.10.0 in /usr/local/lib/python3.7/dist-packages (from tweepy) (1.15.0)\n",
            "Requirement already satisfied: requests-oauthlib>=0.7.0 in /usr/local/lib/python3.7/dist-packages (from tweepy) (1.3.1)\n",
            "Requirement already satisfied: oauthlib>=3.0.0 in /usr/local/lib/python3.7/dist-packages (from requests-oauthlib>=0.7.0->tweepy) (3.2.0)\n",
            "Requirement already satisfied: chardet<4,>=3.0.2 in /usr/local/lib/python3.7/dist-packages (from requests[socks]>=2.11.1->tweepy) (3.0.4)\n",
            "Requirement already satisfied: urllib3!=1.25.0,!=1.25.1,<1.26,>=1.21.1 in /usr/local/lib/python3.7/dist-packages (from requests[socks]>=2.11.1->tweepy) (1.24.3)\n",
            "Requirement already satisfied: certifi>=2017.4.17 in /usr/local/lib/python3.7/dist-packages (from requests[socks]>=2.11.1->tweepy) (2021.10.8)\n",
            "Requirement already satisfied: idna<3,>=2.5 in /usr/local/lib/python3.7/dist-packages (from requests[socks]>=2.11.1->tweepy) (2.10)\n",
            "Requirement already satisfied: PySocks!=1.5.7,>=1.5.6 in /usr/local/lib/python3.7/dist-packages (from requests[socks]>=2.11.1->tweepy) (1.7.1)\n"
          ]
        }
      ]
    },
    {
      "cell_type": "code",
      "source": [
        "import tweepy\n",
        "import pandas as pd"
      ],
      "metadata": {
        "id": "Z9dbU4mR19HF"
      },
      "execution_count": null,
      "outputs": []
    },
    {
      "cell_type": "code",
      "execution_count": null,
      "metadata": {
        "id": "4moOMeG21MzD"
      },
      "outputs": [],
      "source": [
        "consumer_key=\"CR3oAVsAax9dfOrWGCgcfeTWk\"\n",
        "consumer_secret=\"B793cNTunhZ3wwMkm8Upi208KmXKkuQD6yGhgC9bJD2yuQBMFQ\"\n",
        "access_token=\"1493170422762045440-TPsRwULM91tI4Tgl4LJq6c2D7yOWVW\"\n",
        "access_token_secret=\"QHGanqoBnItORIABJZpPRfPw3klbQZSJ4DsELpdGirdqg\""
      ]
    },
    {
      "cell_type": "code",
      "source": [
        "auth= tweepy.OAuthHandler(consumer_key,consumer_secret)\n",
        "auth.set_access_token(access_token,access_token_secret)\n",
        "api= tweepy.API(auth)"
      ],
      "metadata": {
        "id": "dTHM_gXo2EYT"
      },
      "execution_count": null,
      "outputs": []
    },
    {
      "cell_type": "markdown",
      "source": [
        "# **Tweet from Elon Musk**"
      ],
      "metadata": {
        "id": "sS1dUzbxdYMI"
      }
    },
    {
      "cell_type": "code",
      "source": [
        "cursor = tweepy.Cursor(api.user_timeline, id='elonmusk', tweet_mode=\"extended\").items(1)"
      ],
      "metadata": {
        "id": "hV82BwAK2xRm"
      },
      "execution_count": null,
      "outputs": []
    },
    {
      "cell_type": "code",
      "source": [
        "for i in cursor:\n",
        "  print(i.full_text)"
      ],
      "metadata": {
        "colab": {
          "base_uri": "https://localhost:8080/"
        },
        "id": "v7lOicYZ3PwI",
        "outputId": "cbfb5ec9-b0d6-41bc-8797-e4963aed1b69"
      },
      "execution_count": null,
      "outputs": [
        {
          "output_type": "stream",
          "name": "stdout",
          "text": [
            "@pmarca Yeah\n"
          ]
        }
      ]
    },
    {
      "cell_type": "markdown",
      "source": [
        "Last 200 tweets from Elon Musk"
      ],
      "metadata": {
        "id": "tNmVon5TdeZK"
      }
    },
    {
      "cell_type": "code",
      "source": [
        "number_of_tweets = 200\n",
        "tweets = []\n",
        "likes = []\n",
        "time = []\n",
        "\n",
        "for i in tweepy.Cursor(api.user_timeline, id='elonmusk', tweet_mode=\"extended\").items(number_of_tweets):\n",
        "  tweets.append(i.full_text)\n",
        "  likes.append(i.favorite_count)\n",
        "  time.append(i.created_at)"
      ],
      "metadata": {
        "id": "ee1kF0b73X4Z"
      },
      "execution_count": null,
      "outputs": []
    },
    {
      "cell_type": "code",
      "source": [
        "tweets"
      ],
      "metadata": {
        "colab": {
          "base_uri": "https://localhost:8080/"
        },
        "id": "kgec-QF8SJ0T",
        "outputId": "69713600-4f0e-468b-93eb-88dda097b622"
      },
      "execution_count": null,
      "outputs": [
        {
          "output_type": "execute_result",
          "data": {
            "text/plain": [
              "['@pmarca Yeah',\n",
              " '@engineers_feed Hardcore',\n",
              " '@WholeMarsBlog They have no idea how hard FSD is. Only path to success imo is hardcore real-world AI software with dedicated NN inference acceleration ASICs in car, multibillion dollar NN training supercluster and 10+ billion miles of vehicle data. Good luck.',\n",
              " 'Thank you for the offer, but such excellent training would give me too much of an advantage. \\n\\nIf he is afraid to fight, I will agree to use only my left hand and I am not even left-handed.\\n\\nElona',\n",
              " '@prosmoon 🤣',\n",
              " 'Telegram post by Ramzan Kadyrov, head of Chechen Republic! https://t.co/UyByR9kywq',\n",
              " '@Astra @SpaceflightInc Congrats!',\n",
              " '@Teslarati @ResidentSponge 💫 Starlink 💫',\n",
              " '@dogeofficialceo @EvaFoxU @Rogozin 🎯',\n",
              " '@EvaFoxU @Rogozin https://t.co/44fQNWBEdx',\n",
              " '@Rogozin And … um … [flicks wrist] we should form a book club.\\n\\n“Дура с сердцем и без ума такая же несчастная дура, как и дура с умом без сердца.”\\nФедор Достоевский, Идиот',\n",
              " '@JaneidyEve @GailAlfarATX @Rogozin Ok :)',\n",
              " '@Rogozin He can even bring his bear',\n",
              " '@Rogozin I see you are a tough negotiator!\\n\\nOk, you can have 10% more pay per view money. https://t.co/Nrbkz9IsTP',\n",
              " 'Congratulations SpaceX team for all that you have accomplished! https://t.co/mtRWrPnGGF',\n",
              " '@wonderofscience One day …',\n",
              " '@Tesla__Mania @jurijfedorov Yeah, I did manage to throw the world champion sumo wrestler, but at the cost of smashing a disc in my neck that caused me insane back pain for 7 years!',\n",
              " '@jurijfedorov Pretty much',\n",
              " 'Вы согласны на этот бой? @KremlinRussia_E',\n",
              " '@KasiaKomorowicz I am absolutely serious',\n",
              " '@GraceRyanJess это было бы честью']"
            ]
          },
          "metadata": {},
          "execution_count": 8
        }
      ]
    },
    {
      "cell_type": "markdown",
      "source": [
        "# **Creating DataFrames**"
      ],
      "metadata": {
        "id": "ZT8q_AMHdPxv"
      }
    },
    {
      "cell_type": "code",
      "source": [
        "df = pd.DataFrame({'tweets':tweets,'likes':likes,'time':time})"
      ],
      "metadata": {
        "id": "odRj2exQSMWO"
      },
      "execution_count": null,
      "outputs": []
    },
    {
      "cell_type": "code",
      "source": [
        "df"
      ],
      "metadata": {
        "colab": {
          "base_uri": "https://localhost:8080/",
          "height": 708
        },
        "id": "BWTBBVL_SgCK",
        "outputId": "e95acebd-0eb3-44c3-caca-f507bdf6322a"
      },
      "execution_count": null,
      "outputs": [
        {
          "output_type": "execute_result",
          "data": {
            "text/plain": [
              "                                               tweets   likes  \\\n",
              "0                                        @pmarca Yeah    2494   \n",
              "1                            @engineers_feed Hardcore    8261   \n",
              "2   @WholeMarsBlog They have no idea how hard FSD ...    6332   \n",
              "3   Thank you for the offer, but such excellent tr...  197466   \n",
              "4                                         @prosmoon 🤣    1677   \n",
              "5   Telegram post by Ramzan Kadyrov, head of Chech...  142891   \n",
              "6                    @Astra @SpaceflightInc Congrats!    7933   \n",
              "7             @Teslarati @ResidentSponge 💫 Starlink 💫   19709   \n",
              "8                @dogeofficialceo @EvaFoxU @Rogozin 🎯    2641   \n",
              "9           @EvaFoxU @Rogozin https://t.co/44fQNWBEdx    3030   \n",
              "10  @Rogozin And … um … [flicks wrist] we should f...   11541   \n",
              "11           @JaneidyEve @GailAlfarATX @Rogozin Ok :)    6445   \n",
              "12                @Rogozin He can even bring his bear   30443   \n",
              "13  @Rogozin I see you are a tough negotiator!\\n\\n...  120350   \n",
              "14  Congratulations SpaceX team for all that you h...  105872   \n",
              "15                         @wonderofscience One day …   36488   \n",
              "16  @Tesla__Mania @jurijfedorov Yeah, I did manage...    8219   \n",
              "17                          @jurijfedorov Pretty much   24784   \n",
              "18          Вы согласны на этот бой? @KremlinRussia_E  111921   \n",
              "19           @KasiaKomorowicz I am absolutely serious   49811   \n",
              "20                  @GraceRyanJess это было бы честью    3639   \n",
              "\n",
              "                  time  \n",
              "0  2022-03-16 06:08:59  \n",
              "1  2022-03-16 02:53:37  \n",
              "2  2022-03-16 00:17:21  \n",
              "3  2022-03-15 20:32:20  \n",
              "4  2022-03-15 20:26:46  \n",
              "5  2022-03-15 20:20:19  \n",
              "6  2022-03-15 19:49:18  \n",
              "7  2022-03-15 18:48:31  \n",
              "8  2022-03-15 11:50:03  \n",
              "9  2022-03-15 11:24:42  \n",
              "10 2022-03-15 11:05:20  \n",
              "11 2022-03-15 04:37:19  \n",
              "12 2022-03-15 02:43:00  \n",
              "13 2022-03-15 01:54:14  \n",
              "14 2022-03-15 00:46:22  \n",
              "15 2022-03-15 00:27:54  \n",
              "16 2022-03-14 14:38:17  \n",
              "17 2022-03-14 14:33:31  \n",
              "18 2022-03-14 11:53:36  \n",
              "19 2022-03-14 11:46:36  \n",
              "20 2022-03-14 11:20:43  "
            ],
            "text/html": [
              "\n",
              "  <div id=\"df-3e08205e-19fd-41e6-9d74-a96624763910\">\n",
              "    <div class=\"colab-df-container\">\n",
              "      <div>\n",
              "<style scoped>\n",
              "    .dataframe tbody tr th:only-of-type {\n",
              "        vertical-align: middle;\n",
              "    }\n",
              "\n",
              "    .dataframe tbody tr th {\n",
              "        vertical-align: top;\n",
              "    }\n",
              "\n",
              "    .dataframe thead th {\n",
              "        text-align: right;\n",
              "    }\n",
              "</style>\n",
              "<table border=\"1\" class=\"dataframe\">\n",
              "  <thead>\n",
              "    <tr style=\"text-align: right;\">\n",
              "      <th></th>\n",
              "      <th>tweets</th>\n",
              "      <th>likes</th>\n",
              "      <th>time</th>\n",
              "    </tr>\n",
              "  </thead>\n",
              "  <tbody>\n",
              "    <tr>\n",
              "      <th>0</th>\n",
              "      <td>@pmarca Yeah</td>\n",
              "      <td>2494</td>\n",
              "      <td>2022-03-16 06:08:59</td>\n",
              "    </tr>\n",
              "    <tr>\n",
              "      <th>1</th>\n",
              "      <td>@engineers_feed Hardcore</td>\n",
              "      <td>8261</td>\n",
              "      <td>2022-03-16 02:53:37</td>\n",
              "    </tr>\n",
              "    <tr>\n",
              "      <th>2</th>\n",
              "      <td>@WholeMarsBlog They have no idea how hard FSD ...</td>\n",
              "      <td>6332</td>\n",
              "      <td>2022-03-16 00:17:21</td>\n",
              "    </tr>\n",
              "    <tr>\n",
              "      <th>3</th>\n",
              "      <td>Thank you for the offer, but such excellent tr...</td>\n",
              "      <td>197466</td>\n",
              "      <td>2022-03-15 20:32:20</td>\n",
              "    </tr>\n",
              "    <tr>\n",
              "      <th>4</th>\n",
              "      <td>@prosmoon 🤣</td>\n",
              "      <td>1677</td>\n",
              "      <td>2022-03-15 20:26:46</td>\n",
              "    </tr>\n",
              "    <tr>\n",
              "      <th>5</th>\n",
              "      <td>Telegram post by Ramzan Kadyrov, head of Chech...</td>\n",
              "      <td>142891</td>\n",
              "      <td>2022-03-15 20:20:19</td>\n",
              "    </tr>\n",
              "    <tr>\n",
              "      <th>6</th>\n",
              "      <td>@Astra @SpaceflightInc Congrats!</td>\n",
              "      <td>7933</td>\n",
              "      <td>2022-03-15 19:49:18</td>\n",
              "    </tr>\n",
              "    <tr>\n",
              "      <th>7</th>\n",
              "      <td>@Teslarati @ResidentSponge 💫 Starlink 💫</td>\n",
              "      <td>19709</td>\n",
              "      <td>2022-03-15 18:48:31</td>\n",
              "    </tr>\n",
              "    <tr>\n",
              "      <th>8</th>\n",
              "      <td>@dogeofficialceo @EvaFoxU @Rogozin 🎯</td>\n",
              "      <td>2641</td>\n",
              "      <td>2022-03-15 11:50:03</td>\n",
              "    </tr>\n",
              "    <tr>\n",
              "      <th>9</th>\n",
              "      <td>@EvaFoxU @Rogozin https://t.co/44fQNWBEdx</td>\n",
              "      <td>3030</td>\n",
              "      <td>2022-03-15 11:24:42</td>\n",
              "    </tr>\n",
              "    <tr>\n",
              "      <th>10</th>\n",
              "      <td>@Rogozin And … um … [flicks wrist] we should f...</td>\n",
              "      <td>11541</td>\n",
              "      <td>2022-03-15 11:05:20</td>\n",
              "    </tr>\n",
              "    <tr>\n",
              "      <th>11</th>\n",
              "      <td>@JaneidyEve @GailAlfarATX @Rogozin Ok :)</td>\n",
              "      <td>6445</td>\n",
              "      <td>2022-03-15 04:37:19</td>\n",
              "    </tr>\n",
              "    <tr>\n",
              "      <th>12</th>\n",
              "      <td>@Rogozin He can even bring his bear</td>\n",
              "      <td>30443</td>\n",
              "      <td>2022-03-15 02:43:00</td>\n",
              "    </tr>\n",
              "    <tr>\n",
              "      <th>13</th>\n",
              "      <td>@Rogozin I see you are a tough negotiator!\\n\\n...</td>\n",
              "      <td>120350</td>\n",
              "      <td>2022-03-15 01:54:14</td>\n",
              "    </tr>\n",
              "    <tr>\n",
              "      <th>14</th>\n",
              "      <td>Congratulations SpaceX team for all that you h...</td>\n",
              "      <td>105872</td>\n",
              "      <td>2022-03-15 00:46:22</td>\n",
              "    </tr>\n",
              "    <tr>\n",
              "      <th>15</th>\n",
              "      <td>@wonderofscience One day …</td>\n",
              "      <td>36488</td>\n",
              "      <td>2022-03-15 00:27:54</td>\n",
              "    </tr>\n",
              "    <tr>\n",
              "      <th>16</th>\n",
              "      <td>@Tesla__Mania @jurijfedorov Yeah, I did manage...</td>\n",
              "      <td>8219</td>\n",
              "      <td>2022-03-14 14:38:17</td>\n",
              "    </tr>\n",
              "    <tr>\n",
              "      <th>17</th>\n",
              "      <td>@jurijfedorov Pretty much</td>\n",
              "      <td>24784</td>\n",
              "      <td>2022-03-14 14:33:31</td>\n",
              "    </tr>\n",
              "    <tr>\n",
              "      <th>18</th>\n",
              "      <td>Вы согласны на этот бой? @KremlinRussia_E</td>\n",
              "      <td>111921</td>\n",
              "      <td>2022-03-14 11:53:36</td>\n",
              "    </tr>\n",
              "    <tr>\n",
              "      <th>19</th>\n",
              "      <td>@KasiaKomorowicz I am absolutely serious</td>\n",
              "      <td>49811</td>\n",
              "      <td>2022-03-14 11:46:36</td>\n",
              "    </tr>\n",
              "    <tr>\n",
              "      <th>20</th>\n",
              "      <td>@GraceRyanJess это было бы честью</td>\n",
              "      <td>3639</td>\n",
              "      <td>2022-03-14 11:20:43</td>\n",
              "    </tr>\n",
              "  </tbody>\n",
              "</table>\n",
              "</div>\n",
              "      <button class=\"colab-df-convert\" onclick=\"convertToInteractive('df-3e08205e-19fd-41e6-9d74-a96624763910')\"\n",
              "              title=\"Convert this dataframe to an interactive table.\"\n",
              "              style=\"display:none;\">\n",
              "        \n",
              "  <svg xmlns=\"http://www.w3.org/2000/svg\" height=\"24px\"viewBox=\"0 0 24 24\"\n",
              "       width=\"24px\">\n",
              "    <path d=\"M0 0h24v24H0V0z\" fill=\"none\"/>\n",
              "    <path d=\"M18.56 5.44l.94 2.06.94-2.06 2.06-.94-2.06-.94-.94-2.06-.94 2.06-2.06.94zm-11 1L8.5 8.5l.94-2.06 2.06-.94-2.06-.94L8.5 2.5l-.94 2.06-2.06.94zm10 10l.94 2.06.94-2.06 2.06-.94-2.06-.94-.94-2.06-.94 2.06-2.06.94z\"/><path d=\"M17.41 7.96l-1.37-1.37c-.4-.4-.92-.59-1.43-.59-.52 0-1.04.2-1.43.59L10.3 9.45l-7.72 7.72c-.78.78-.78 2.05 0 2.83L4 21.41c.39.39.9.59 1.41.59.51 0 1.02-.2 1.41-.59l7.78-7.78 2.81-2.81c.8-.78.8-2.07 0-2.86zM5.41 20L4 18.59l7.72-7.72 1.47 1.35L5.41 20z\"/>\n",
              "  </svg>\n",
              "      </button>\n",
              "      \n",
              "  <style>\n",
              "    .colab-df-container {\n",
              "      display:flex;\n",
              "      flex-wrap:wrap;\n",
              "      gap: 12px;\n",
              "    }\n",
              "\n",
              "    .colab-df-convert {\n",
              "      background-color: #E8F0FE;\n",
              "      border: none;\n",
              "      border-radius: 50%;\n",
              "      cursor: pointer;\n",
              "      display: none;\n",
              "      fill: #1967D2;\n",
              "      height: 32px;\n",
              "      padding: 0 0 0 0;\n",
              "      width: 32px;\n",
              "    }\n",
              "\n",
              "    .colab-df-convert:hover {\n",
              "      background-color: #E2EBFA;\n",
              "      box-shadow: 0px 1px 2px rgba(60, 64, 67, 0.3), 0px 1px 3px 1px rgba(60, 64, 67, 0.15);\n",
              "      fill: #174EA6;\n",
              "    }\n",
              "\n",
              "    [theme=dark] .colab-df-convert {\n",
              "      background-color: #3B4455;\n",
              "      fill: #D2E3FC;\n",
              "    }\n",
              "\n",
              "    [theme=dark] .colab-df-convert:hover {\n",
              "      background-color: #434B5C;\n",
              "      box-shadow: 0px 1px 3px 1px rgba(0, 0, 0, 0.15);\n",
              "      filter: drop-shadow(0px 1px 2px rgba(0, 0, 0, 0.3));\n",
              "      fill: #FFFFFF;\n",
              "    }\n",
              "  </style>\n",
              "\n",
              "      <script>\n",
              "        const buttonEl =\n",
              "          document.querySelector('#df-3e08205e-19fd-41e6-9d74-a96624763910 button.colab-df-convert');\n",
              "        buttonEl.style.display =\n",
              "          google.colab.kernel.accessAllowed ? 'block' : 'none';\n",
              "\n",
              "        async function convertToInteractive(key) {\n",
              "          const element = document.querySelector('#df-3e08205e-19fd-41e6-9d74-a96624763910');\n",
              "          const dataTable =\n",
              "            await google.colab.kernel.invokeFunction('convertToInteractive',\n",
              "                                                     [key], {});\n",
              "          if (!dataTable) return;\n",
              "\n",
              "          const docLinkHtml = 'Like what you see? Visit the ' +\n",
              "            '<a target=\"_blank\" href=https://colab.research.google.com/notebooks/data_table.ipynb>data table notebook</a>'\n",
              "            + ' to learn more about interactive tables.';\n",
              "          element.innerHTML = '';\n",
              "          dataTable['output_type'] = 'display_data';\n",
              "          await google.colab.output.renderOutput(dataTable, element);\n",
              "          const docLink = document.createElement('div');\n",
              "          docLink.innerHTML = docLinkHtml;\n",
              "          element.appendChild(docLink);\n",
              "        }\n",
              "      </script>\n",
              "    </div>\n",
              "  </div>\n",
              "  "
            ]
          },
          "metadata": {},
          "execution_count": 10
        }
      ]
    },
    {
      "cell_type": "markdown",
      "source": [
        "# **Remove Retweets**"
      ],
      "metadata": {
        "id": "O3ra-EV1TNiE"
      }
    },
    {
      "cell_type": "code",
      "source": [
        "df = df[~df.tweets.str.contains(\"RT\")]"
      ],
      "metadata": {
        "id": "diVpMgaYShMF"
      },
      "execution_count": null,
      "outputs": []
    },
    {
      "cell_type": "code",
      "source": [
        "df=df.reset_index(drop=True)"
      ],
      "metadata": {
        "id": "WXSXh4CrTK3L"
      },
      "execution_count": null,
      "outputs": []
    },
    {
      "cell_type": "code",
      "source": [
        "df"
      ],
      "metadata": {
        "colab": {
          "base_uri": "https://localhost:8080/",
          "height": 708
        },
        "id": "-Sq5KmvxTLms",
        "outputId": "4f271299-8614-4fa0-9244-de068c330923"
      },
      "execution_count": null,
      "outputs": [
        {
          "output_type": "execute_result",
          "data": {
            "text/plain": [
              "                                               tweets   likes  \\\n",
              "0                                        @pmarca Yeah    2494   \n",
              "1                            @engineers_feed Hardcore    8261   \n",
              "2   @WholeMarsBlog They have no idea how hard FSD ...    6332   \n",
              "3   Thank you for the offer, but such excellent tr...  197466   \n",
              "4                                         @prosmoon 🤣    1677   \n",
              "5   Telegram post by Ramzan Kadyrov, head of Chech...  142891   \n",
              "6                    @Astra @SpaceflightInc Congrats!    7933   \n",
              "7             @Teslarati @ResidentSponge 💫 Starlink 💫   19709   \n",
              "8                @dogeofficialceo @EvaFoxU @Rogozin 🎯    2641   \n",
              "9           @EvaFoxU @Rogozin https://t.co/44fQNWBEdx    3030   \n",
              "10  @Rogozin And … um … [flicks wrist] we should f...   11541   \n",
              "11           @JaneidyEve @GailAlfarATX @Rogozin Ok :)    6445   \n",
              "12                @Rogozin He can even bring his bear   30443   \n",
              "13  @Rogozin I see you are a tough negotiator!\\n\\n...  120350   \n",
              "14  Congratulations SpaceX team for all that you h...  105872   \n",
              "15                         @wonderofscience One day …   36488   \n",
              "16  @Tesla__Mania @jurijfedorov Yeah, I did manage...    8219   \n",
              "17                          @jurijfedorov Pretty much   24784   \n",
              "18          Вы согласны на этот бой? @KremlinRussia_E  111921   \n",
              "19           @KasiaKomorowicz I am absolutely serious   49811   \n",
              "20                  @GraceRyanJess это было бы честью    3639   \n",
              "\n",
              "                  time  \n",
              "0  2022-03-16 06:08:59  \n",
              "1  2022-03-16 02:53:37  \n",
              "2  2022-03-16 00:17:21  \n",
              "3  2022-03-15 20:32:20  \n",
              "4  2022-03-15 20:26:46  \n",
              "5  2022-03-15 20:20:19  \n",
              "6  2022-03-15 19:49:18  \n",
              "7  2022-03-15 18:48:31  \n",
              "8  2022-03-15 11:50:03  \n",
              "9  2022-03-15 11:24:42  \n",
              "10 2022-03-15 11:05:20  \n",
              "11 2022-03-15 04:37:19  \n",
              "12 2022-03-15 02:43:00  \n",
              "13 2022-03-15 01:54:14  \n",
              "14 2022-03-15 00:46:22  \n",
              "15 2022-03-15 00:27:54  \n",
              "16 2022-03-14 14:38:17  \n",
              "17 2022-03-14 14:33:31  \n",
              "18 2022-03-14 11:53:36  \n",
              "19 2022-03-14 11:46:36  \n",
              "20 2022-03-14 11:20:43  "
            ],
            "text/html": [
              "\n",
              "  <div id=\"df-c0483e7c-9d5a-4d9c-a409-022d63f94e4d\">\n",
              "    <div class=\"colab-df-container\">\n",
              "      <div>\n",
              "<style scoped>\n",
              "    .dataframe tbody tr th:only-of-type {\n",
              "        vertical-align: middle;\n",
              "    }\n",
              "\n",
              "    .dataframe tbody tr th {\n",
              "        vertical-align: top;\n",
              "    }\n",
              "\n",
              "    .dataframe thead th {\n",
              "        text-align: right;\n",
              "    }\n",
              "</style>\n",
              "<table border=\"1\" class=\"dataframe\">\n",
              "  <thead>\n",
              "    <tr style=\"text-align: right;\">\n",
              "      <th></th>\n",
              "      <th>tweets</th>\n",
              "      <th>likes</th>\n",
              "      <th>time</th>\n",
              "    </tr>\n",
              "  </thead>\n",
              "  <tbody>\n",
              "    <tr>\n",
              "      <th>0</th>\n",
              "      <td>@pmarca Yeah</td>\n",
              "      <td>2494</td>\n",
              "      <td>2022-03-16 06:08:59</td>\n",
              "    </tr>\n",
              "    <tr>\n",
              "      <th>1</th>\n",
              "      <td>@engineers_feed Hardcore</td>\n",
              "      <td>8261</td>\n",
              "      <td>2022-03-16 02:53:37</td>\n",
              "    </tr>\n",
              "    <tr>\n",
              "      <th>2</th>\n",
              "      <td>@WholeMarsBlog They have no idea how hard FSD ...</td>\n",
              "      <td>6332</td>\n",
              "      <td>2022-03-16 00:17:21</td>\n",
              "    </tr>\n",
              "    <tr>\n",
              "      <th>3</th>\n",
              "      <td>Thank you for the offer, but such excellent tr...</td>\n",
              "      <td>197466</td>\n",
              "      <td>2022-03-15 20:32:20</td>\n",
              "    </tr>\n",
              "    <tr>\n",
              "      <th>4</th>\n",
              "      <td>@prosmoon 🤣</td>\n",
              "      <td>1677</td>\n",
              "      <td>2022-03-15 20:26:46</td>\n",
              "    </tr>\n",
              "    <tr>\n",
              "      <th>5</th>\n",
              "      <td>Telegram post by Ramzan Kadyrov, head of Chech...</td>\n",
              "      <td>142891</td>\n",
              "      <td>2022-03-15 20:20:19</td>\n",
              "    </tr>\n",
              "    <tr>\n",
              "      <th>6</th>\n",
              "      <td>@Astra @SpaceflightInc Congrats!</td>\n",
              "      <td>7933</td>\n",
              "      <td>2022-03-15 19:49:18</td>\n",
              "    </tr>\n",
              "    <tr>\n",
              "      <th>7</th>\n",
              "      <td>@Teslarati @ResidentSponge 💫 Starlink 💫</td>\n",
              "      <td>19709</td>\n",
              "      <td>2022-03-15 18:48:31</td>\n",
              "    </tr>\n",
              "    <tr>\n",
              "      <th>8</th>\n",
              "      <td>@dogeofficialceo @EvaFoxU @Rogozin 🎯</td>\n",
              "      <td>2641</td>\n",
              "      <td>2022-03-15 11:50:03</td>\n",
              "    </tr>\n",
              "    <tr>\n",
              "      <th>9</th>\n",
              "      <td>@EvaFoxU @Rogozin https://t.co/44fQNWBEdx</td>\n",
              "      <td>3030</td>\n",
              "      <td>2022-03-15 11:24:42</td>\n",
              "    </tr>\n",
              "    <tr>\n",
              "      <th>10</th>\n",
              "      <td>@Rogozin And … um … [flicks wrist] we should f...</td>\n",
              "      <td>11541</td>\n",
              "      <td>2022-03-15 11:05:20</td>\n",
              "    </tr>\n",
              "    <tr>\n",
              "      <th>11</th>\n",
              "      <td>@JaneidyEve @GailAlfarATX @Rogozin Ok :)</td>\n",
              "      <td>6445</td>\n",
              "      <td>2022-03-15 04:37:19</td>\n",
              "    </tr>\n",
              "    <tr>\n",
              "      <th>12</th>\n",
              "      <td>@Rogozin He can even bring his bear</td>\n",
              "      <td>30443</td>\n",
              "      <td>2022-03-15 02:43:00</td>\n",
              "    </tr>\n",
              "    <tr>\n",
              "      <th>13</th>\n",
              "      <td>@Rogozin I see you are a tough negotiator!\\n\\n...</td>\n",
              "      <td>120350</td>\n",
              "      <td>2022-03-15 01:54:14</td>\n",
              "    </tr>\n",
              "    <tr>\n",
              "      <th>14</th>\n",
              "      <td>Congratulations SpaceX team for all that you h...</td>\n",
              "      <td>105872</td>\n",
              "      <td>2022-03-15 00:46:22</td>\n",
              "    </tr>\n",
              "    <tr>\n",
              "      <th>15</th>\n",
              "      <td>@wonderofscience One day …</td>\n",
              "      <td>36488</td>\n",
              "      <td>2022-03-15 00:27:54</td>\n",
              "    </tr>\n",
              "    <tr>\n",
              "      <th>16</th>\n",
              "      <td>@Tesla__Mania @jurijfedorov Yeah, I did manage...</td>\n",
              "      <td>8219</td>\n",
              "      <td>2022-03-14 14:38:17</td>\n",
              "    </tr>\n",
              "    <tr>\n",
              "      <th>17</th>\n",
              "      <td>@jurijfedorov Pretty much</td>\n",
              "      <td>24784</td>\n",
              "      <td>2022-03-14 14:33:31</td>\n",
              "    </tr>\n",
              "    <tr>\n",
              "      <th>18</th>\n",
              "      <td>Вы согласны на этот бой? @KremlinRussia_E</td>\n",
              "      <td>111921</td>\n",
              "      <td>2022-03-14 11:53:36</td>\n",
              "    </tr>\n",
              "    <tr>\n",
              "      <th>19</th>\n",
              "      <td>@KasiaKomorowicz I am absolutely serious</td>\n",
              "      <td>49811</td>\n",
              "      <td>2022-03-14 11:46:36</td>\n",
              "    </tr>\n",
              "    <tr>\n",
              "      <th>20</th>\n",
              "      <td>@GraceRyanJess это было бы честью</td>\n",
              "      <td>3639</td>\n",
              "      <td>2022-03-14 11:20:43</td>\n",
              "    </tr>\n",
              "  </tbody>\n",
              "</table>\n",
              "</div>\n",
              "      <button class=\"colab-df-convert\" onclick=\"convertToInteractive('df-c0483e7c-9d5a-4d9c-a409-022d63f94e4d')\"\n",
              "              title=\"Convert this dataframe to an interactive table.\"\n",
              "              style=\"display:none;\">\n",
              "        \n",
              "  <svg xmlns=\"http://www.w3.org/2000/svg\" height=\"24px\"viewBox=\"0 0 24 24\"\n",
              "       width=\"24px\">\n",
              "    <path d=\"M0 0h24v24H0V0z\" fill=\"none\"/>\n",
              "    <path d=\"M18.56 5.44l.94 2.06.94-2.06 2.06-.94-2.06-.94-.94-2.06-.94 2.06-2.06.94zm-11 1L8.5 8.5l.94-2.06 2.06-.94-2.06-.94L8.5 2.5l-.94 2.06-2.06.94zm10 10l.94 2.06.94-2.06 2.06-.94-2.06-.94-.94-2.06-.94 2.06-2.06.94z\"/><path d=\"M17.41 7.96l-1.37-1.37c-.4-.4-.92-.59-1.43-.59-.52 0-1.04.2-1.43.59L10.3 9.45l-7.72 7.72c-.78.78-.78 2.05 0 2.83L4 21.41c.39.39.9.59 1.41.59.51 0 1.02-.2 1.41-.59l7.78-7.78 2.81-2.81c.8-.78.8-2.07 0-2.86zM5.41 20L4 18.59l7.72-7.72 1.47 1.35L5.41 20z\"/>\n",
              "  </svg>\n",
              "      </button>\n",
              "      \n",
              "  <style>\n",
              "    .colab-df-container {\n",
              "      display:flex;\n",
              "      flex-wrap:wrap;\n",
              "      gap: 12px;\n",
              "    }\n",
              "\n",
              "    .colab-df-convert {\n",
              "      background-color: #E8F0FE;\n",
              "      border: none;\n",
              "      border-radius: 50%;\n",
              "      cursor: pointer;\n",
              "      display: none;\n",
              "      fill: #1967D2;\n",
              "      height: 32px;\n",
              "      padding: 0 0 0 0;\n",
              "      width: 32px;\n",
              "    }\n",
              "\n",
              "    .colab-df-convert:hover {\n",
              "      background-color: #E2EBFA;\n",
              "      box-shadow: 0px 1px 2px rgba(60, 64, 67, 0.3), 0px 1px 3px 1px rgba(60, 64, 67, 0.15);\n",
              "      fill: #174EA6;\n",
              "    }\n",
              "\n",
              "    [theme=dark] .colab-df-convert {\n",
              "      background-color: #3B4455;\n",
              "      fill: #D2E3FC;\n",
              "    }\n",
              "\n",
              "    [theme=dark] .colab-df-convert:hover {\n",
              "      background-color: #434B5C;\n",
              "      box-shadow: 0px 1px 3px 1px rgba(0, 0, 0, 0.15);\n",
              "      filter: drop-shadow(0px 1px 2px rgba(0, 0, 0, 0.3));\n",
              "      fill: #FFFFFF;\n",
              "    }\n",
              "  </style>\n",
              "\n",
              "      <script>\n",
              "        const buttonEl =\n",
              "          document.querySelector('#df-c0483e7c-9d5a-4d9c-a409-022d63f94e4d button.colab-df-convert');\n",
              "        buttonEl.style.display =\n",
              "          google.colab.kernel.accessAllowed ? 'block' : 'none';\n",
              "\n",
              "        async function convertToInteractive(key) {\n",
              "          const element = document.querySelector('#df-c0483e7c-9d5a-4d9c-a409-022d63f94e4d');\n",
              "          const dataTable =\n",
              "            await google.colab.kernel.invokeFunction('convertToInteractive',\n",
              "                                                     [key], {});\n",
              "          if (!dataTable) return;\n",
              "\n",
              "          const docLinkHtml = 'Like what you see? Visit the ' +\n",
              "            '<a target=\"_blank\" href=https://colab.research.google.com/notebooks/data_table.ipynb>data table notebook</a>'\n",
              "            + ' to learn more about interactive tables.';\n",
              "          element.innerHTML = '';\n",
              "          dataTable['output_type'] = 'display_data';\n",
              "          await google.colab.output.renderOutput(dataTable, element);\n",
              "          const docLink = document.createElement('div');\n",
              "          docLink.innerHTML = docLinkHtml;\n",
              "          element.appendChild(docLink);\n",
              "        }\n",
              "      </script>\n",
              "    </div>\n",
              "  </div>\n",
              "  "
            ]
          },
          "metadata": {},
          "execution_count": 13
        }
      ]
    },
    {
      "cell_type": "markdown",
      "source": [
        "**most liked tweets**"
      ],
      "metadata": {
        "id": "8CErxnq7dp1k"
      }
    },
    {
      "cell_type": "code",
      "source": [
        "mostlike = df.loc[df.likes.nlargest(5).index]"
      ],
      "metadata": {
        "id": "KSfwP_s1Tkot"
      },
      "execution_count": null,
      "outputs": []
    },
    {
      "cell_type": "code",
      "source": [
        "mostlike"
      ],
      "metadata": {
        "colab": {
          "base_uri": "https://localhost:8080/",
          "height": 206
        },
        "id": "VYtZmrgzTzOm",
        "outputId": "983d021d-3443-4455-e976-cd87865dc79b"
      },
      "execution_count": null,
      "outputs": [
        {
          "output_type": "execute_result",
          "data": {
            "text/plain": [
              "                                               tweets   likes  \\\n",
              "3   Thank you for the offer, but such excellent tr...  197466   \n",
              "5   Telegram post by Ramzan Kadyrov, head of Chech...  142891   \n",
              "13  @Rogozin I see you are a tough negotiator!\\n\\n...  120350   \n",
              "18          Вы согласны на этот бой? @KremlinRussia_E  111921   \n",
              "14  Congratulations SpaceX team for all that you h...  105872   \n",
              "\n",
              "                  time  \n",
              "3  2022-03-15 20:32:20  \n",
              "5  2022-03-15 20:20:19  \n",
              "13 2022-03-15 01:54:14  \n",
              "18 2022-03-14 11:53:36  \n",
              "14 2022-03-15 00:46:22  "
            ],
            "text/html": [
              "\n",
              "  <div id=\"df-c5402862-60f6-4192-9088-af5fb1a31196\">\n",
              "    <div class=\"colab-df-container\">\n",
              "      <div>\n",
              "<style scoped>\n",
              "    .dataframe tbody tr th:only-of-type {\n",
              "        vertical-align: middle;\n",
              "    }\n",
              "\n",
              "    .dataframe tbody tr th {\n",
              "        vertical-align: top;\n",
              "    }\n",
              "\n",
              "    .dataframe thead th {\n",
              "        text-align: right;\n",
              "    }\n",
              "</style>\n",
              "<table border=\"1\" class=\"dataframe\">\n",
              "  <thead>\n",
              "    <tr style=\"text-align: right;\">\n",
              "      <th></th>\n",
              "      <th>tweets</th>\n",
              "      <th>likes</th>\n",
              "      <th>time</th>\n",
              "    </tr>\n",
              "  </thead>\n",
              "  <tbody>\n",
              "    <tr>\n",
              "      <th>3</th>\n",
              "      <td>Thank you for the offer, but such excellent tr...</td>\n",
              "      <td>197466</td>\n",
              "      <td>2022-03-15 20:32:20</td>\n",
              "    </tr>\n",
              "    <tr>\n",
              "      <th>5</th>\n",
              "      <td>Telegram post by Ramzan Kadyrov, head of Chech...</td>\n",
              "      <td>142891</td>\n",
              "      <td>2022-03-15 20:20:19</td>\n",
              "    </tr>\n",
              "    <tr>\n",
              "      <th>13</th>\n",
              "      <td>@Rogozin I see you are a tough negotiator!\\n\\n...</td>\n",
              "      <td>120350</td>\n",
              "      <td>2022-03-15 01:54:14</td>\n",
              "    </tr>\n",
              "    <tr>\n",
              "      <th>18</th>\n",
              "      <td>Вы согласны на этот бой? @KremlinRussia_E</td>\n",
              "      <td>111921</td>\n",
              "      <td>2022-03-14 11:53:36</td>\n",
              "    </tr>\n",
              "    <tr>\n",
              "      <th>14</th>\n",
              "      <td>Congratulations SpaceX team for all that you h...</td>\n",
              "      <td>105872</td>\n",
              "      <td>2022-03-15 00:46:22</td>\n",
              "    </tr>\n",
              "  </tbody>\n",
              "</table>\n",
              "</div>\n",
              "      <button class=\"colab-df-convert\" onclick=\"convertToInteractive('df-c5402862-60f6-4192-9088-af5fb1a31196')\"\n",
              "              title=\"Convert this dataframe to an interactive table.\"\n",
              "              style=\"display:none;\">\n",
              "        \n",
              "  <svg xmlns=\"http://www.w3.org/2000/svg\" height=\"24px\"viewBox=\"0 0 24 24\"\n",
              "       width=\"24px\">\n",
              "    <path d=\"M0 0h24v24H0V0z\" fill=\"none\"/>\n",
              "    <path d=\"M18.56 5.44l.94 2.06.94-2.06 2.06-.94-2.06-.94-.94-2.06-.94 2.06-2.06.94zm-11 1L8.5 8.5l.94-2.06 2.06-.94-2.06-.94L8.5 2.5l-.94 2.06-2.06.94zm10 10l.94 2.06.94-2.06 2.06-.94-2.06-.94-.94-2.06-.94 2.06-2.06.94z\"/><path d=\"M17.41 7.96l-1.37-1.37c-.4-.4-.92-.59-1.43-.59-.52 0-1.04.2-1.43.59L10.3 9.45l-7.72 7.72c-.78.78-.78 2.05 0 2.83L4 21.41c.39.39.9.59 1.41.59.51 0 1.02-.2 1.41-.59l7.78-7.78 2.81-2.81c.8-.78.8-2.07 0-2.86zM5.41 20L4 18.59l7.72-7.72 1.47 1.35L5.41 20z\"/>\n",
              "  </svg>\n",
              "      </button>\n",
              "      \n",
              "  <style>\n",
              "    .colab-df-container {\n",
              "      display:flex;\n",
              "      flex-wrap:wrap;\n",
              "      gap: 12px;\n",
              "    }\n",
              "\n",
              "    .colab-df-convert {\n",
              "      background-color: #E8F0FE;\n",
              "      border: none;\n",
              "      border-radius: 50%;\n",
              "      cursor: pointer;\n",
              "      display: none;\n",
              "      fill: #1967D2;\n",
              "      height: 32px;\n",
              "      padding: 0 0 0 0;\n",
              "      width: 32px;\n",
              "    }\n",
              "\n",
              "    .colab-df-convert:hover {\n",
              "      background-color: #E2EBFA;\n",
              "      box-shadow: 0px 1px 2px rgba(60, 64, 67, 0.3), 0px 1px 3px 1px rgba(60, 64, 67, 0.15);\n",
              "      fill: #174EA6;\n",
              "    }\n",
              "\n",
              "    [theme=dark] .colab-df-convert {\n",
              "      background-color: #3B4455;\n",
              "      fill: #D2E3FC;\n",
              "    }\n",
              "\n",
              "    [theme=dark] .colab-df-convert:hover {\n",
              "      background-color: #434B5C;\n",
              "      box-shadow: 0px 1px 3px 1px rgba(0, 0, 0, 0.15);\n",
              "      filter: drop-shadow(0px 1px 2px rgba(0, 0, 0, 0.3));\n",
              "      fill: #FFFFFF;\n",
              "    }\n",
              "  </style>\n",
              "\n",
              "      <script>\n",
              "        const buttonEl =\n",
              "          document.querySelector('#df-c5402862-60f6-4192-9088-af5fb1a31196 button.colab-df-convert');\n",
              "        buttonEl.style.display =\n",
              "          google.colab.kernel.accessAllowed ? 'block' : 'none';\n",
              "\n",
              "        async function convertToInteractive(key) {\n",
              "          const element = document.querySelector('#df-c5402862-60f6-4192-9088-af5fb1a31196');\n",
              "          const dataTable =\n",
              "            await google.colab.kernel.invokeFunction('convertToInteractive',\n",
              "                                                     [key], {});\n",
              "          if (!dataTable) return;\n",
              "\n",
              "          const docLinkHtml = 'Like what you see? Visit the ' +\n",
              "            '<a target=\"_blank\" href=https://colab.research.google.com/notebooks/data_table.ipynb>data table notebook</a>'\n",
              "            + ' to learn more about interactive tables.';\n",
              "          element.innerHTML = '';\n",
              "          dataTable['output_type'] = 'display_data';\n",
              "          await google.colab.output.renderOutput(dataTable, element);\n",
              "          const docLink = document.createElement('div');\n",
              "          docLink.innerHTML = docLinkHtml;\n",
              "          element.appendChild(docLink);\n",
              "        }\n",
              "      </script>\n",
              "    </div>\n",
              "  </div>\n",
              "  "
            ]
          },
          "metadata": {},
          "execution_count": 15
        }
      ]
    },
    {
      "cell_type": "code",
      "source": [
        "import matplotlib.pyplot as plt\n",
        "import re\n",
        "import spacy.cli\n",
        "spacy.cli.download(\"en_core_web_lg\")\n",
        "nlp = spacy.load('en_core_web_lg')\n",
        "import seaborn as sns"
      ],
      "metadata": {
        "colab": {
          "base_uri": "https://localhost:8080/"
        },
        "id": "PW1m2ePHT0nz",
        "outputId": "9e0a0d85-d05a-41b2-db29-486c6ced773f"
      },
      "execution_count": null,
      "outputs": [
        {
          "output_type": "stream",
          "name": "stdout",
          "text": [
            "\u001b[38;5;2m✔ Download and installation successful\u001b[0m\n",
            "You can now load the model via spacy.load('en_core_web_lg')\n"
          ]
        }
      ]
    },
    {
      "cell_type": "code",
      "source": [
        "list_of_sentences = [sentence for sentence in df.tweets]\n",
        "\n",
        "lines = []\n",
        "for sentence in list_of_sentences:\n",
        "  words = sentence.split()\n",
        "  for w in words:\n",
        "    lines.append(w)"
      ],
      "metadata": {
        "id": "LL_WGT7vUZ6M"
      },
      "execution_count": null,
      "outputs": []
    },
    {
      "cell_type": "markdown",
      "source": [
        "# **Removing Special Characters**"
      ],
      "metadata": {
        "id": "kpN15uLecWhe"
      }
    },
    {
      "cell_type": "code",
      "source": [
        "for i in range(len(lines)):\n",
        "    lines[i] = lines[i].lower()\n",
        "lines = [re.sub(r'[^A-Za-z0-9]+','',x) for x in lines]\n",
        "\n",
        "lines2 = []\n",
        "\n",
        "for word in lines:\n",
        "  if word != '':\n",
        "    lines2.append(word)"
      ],
      "metadata": {
        "id": "Qg2O5pwjZmSF"
      },
      "execution_count": null,
      "outputs": []
    },
    {
      "cell_type": "code",
      "source": [
        "from nltk.stem.snowball import SnowballStemmer\n",
        "\n",
        "s_stemmer = SnowballStemmer(language = 'english')\n",
        "stem = []\n",
        "for word in lines2:\n",
        "  stem.append(s_stemmer.stem(word))"
      ],
      "metadata": {
        "id": "92sCCrfgaMwW"
      },
      "execution_count": null,
      "outputs": []
    },
    {
      "cell_type": "code",
      "source": [
        "stem2 = []\n",
        "for word in stem:\n",
        "  if word not in nlp.Defaults.stop_words:\n",
        "    stem2.append(word)"
      ],
      "metadata": {
        "id": "Kv9o2Rc9a64R"
      },
      "execution_count": null,
      "outputs": []
    },
    {
      "cell_type": "markdown",
      "source": [
        "# **EXPEIMENT:-3**"
      ],
      "metadata": {
        "id": "oMNS-4i4Cxrt"
      }
    },
    {
      "cell_type": "code",
      "source": [
        "df2 = pd.DataFrame(stem2)\n",
        "df2 = df2[0].value_counts()"
      ],
      "metadata": {
        "id": "7YwuqxnnbI--"
      },
      "execution_count": null,
      "outputs": []
    },
    {
      "cell_type": "markdown",
      "source": [
        "# **Plotting Graph for most used words**"
      ],
      "metadata": {
        "id": "sXzpBS6wcjmF"
      }
    },
    {
      "cell_type": "code",
      "source": [
        "df2 = df2[:20,]\n",
        "plt.figure(figsize=(10,5))\n",
        "sns.barplot(df2.values, df2.index, alpha=1)\n",
        "plt.title('Top words Overall')\n",
        "plt.ylabel('Word from Tweet',fontsize=12)\n",
        "plt.xlabel('Count of Words',fontsize=12)\n",
        "plt.show()"
      ],
      "metadata": {
        "colab": {
          "base_uri": "https://localhost:8080/",
          "height": 408
        },
        "id": "YVJWM8lebQuZ",
        "outputId": "448b6f8b-bd46-469c-844e-a37d36f177f5"
      },
      "execution_count": null,
      "outputs": [
        {
          "output_type": "stream",
          "name": "stderr",
          "text": [
            "/usr/local/lib/python3.7/dist-packages/seaborn/_decorators.py:43: FutureWarning: Pass the following variables as keyword args: x, y. From version 0.12, the only valid positional argument will be `data`, and passing other arguments without an explicit keyword will result in an error or misinterpretation.\n",
            "  FutureWarning\n"
          ]
        },
        {
          "output_type": "display_data",
          "data": {
            "text/plain": [
              "<Figure size 720x360 with 1 Axes>"
            ],
            "image/png": "[encoded data removed]"
          },
          "metadata": {
            "needs_background": "light"
          }
        }
      ]
    },
    {
      "cell_type": "markdown",
      "source": [
        "# **Top Mentioned Person name in Elon Musk tweets**"
      ],
      "metadata": {
        "id": "zVZKei5he1eg"
      }
    },
    {
      "cell_type": "code",
      "source": [
        "str1 = \" \"\n",
        "stem2 = str1.join(lines2)\n",
        "stem2 = nlp(stem2)\n",
        "label = [(X.text, X.label_) for X in stem2.ents]\n",
        "df10 = pd.DataFrame(label, columns = ['Word', 'Entity'])\n",
        "df10 = df10.where(df10['Entity'] == 'PERSON')\n",
        "df11 = df10['Word'].value_counts()"
      ],
      "metadata": {
        "id": "aov5PBuIb8im"
      },
      "execution_count": null,
      "outputs": []
    },
    {
      "cell_type": "code",
      "source": [
        "dfy = df11[:20,]\n",
        "plt.figure(figsize=(10,5))\n",
        "sns.barplot(dfy.values, dfy.index, alpha=1)\n",
        "plt.title('Top people mentioned')\n",
        "plt.ylabel('Word from Tweet',fontsize=12)\n",
        "plt.xlabel('Count of Words',fontsize=12)\n",
        "plt.show()"
      ],
      "metadata": {
        "colab": {
          "base_uri": "https://localhost:8080/",
          "height": 408
        },
        "id": "YfvMQQVSeX-t",
        "outputId": "595e8136-e26d-4f1e-997a-1124a61b1cc8"
      },
      "execution_count": null,
      "outputs": [
        {
          "output_type": "stream",
          "name": "stderr",
          "text": [
            "/usr/local/lib/python3.7/dist-packages/seaborn/_decorators.py:43: FutureWarning: Pass the following variables as keyword args: x, y. From version 0.12, the only valid positional argument will be `data`, and passing other arguments without an explicit keyword will result in an error or misinterpretation.\n",
            "  FutureWarning\n"
          ]
        },
        {
          "output_type": "display_data",
          "data": {
            "text/plain": [
              "<Figure size 720x360 with 1 Axes>"
            ],
            "image/png": "[encoded data removed]"
          },
          "metadata": {
            "needs_background": "light"
          }
        }
      ]
    },
    {
      "cell_type": "markdown",
      "source": [
        "# **Experiment:- 4**"
      ],
      "metadata": {
        "id": "bO_JPRjn-uDV"
      }
    },
    {
      "cell_type": "code",
      "source": [
        "st=\"\"\n",
        "for x in range(len(df2)):\n",
        "  for y in range(df2[x]):\n",
        "    st = st + \" \" + df2.index[x]\n",
        "print(st)"
      ],
      "metadata": {
        "id": "ZCL1c2tFeogF",
        "outputId": "10f3cd3d-9f3a-4f1c-faa8-c15c59fdd4ee",
        "colab": {
          "base_uri": "https://localhost:8080/"
        }
      },
      "execution_count": null,
      "outputs": [
        {
          "output_type": "stream",
          "name": "stdout",
          "text": [
            " rogozin rogozin rogozin rogozin rogozin rogozin train train evafoxu evafoxu hardcor hardcor yeah yeah ok ok nn nn onli onli jurijfedorov jurijfedorov 10 10 pmarca negoti pay money view bear httpstconrbkz9istp congratul tough gailalfaratx\n"
          ]
        }
      ]
    },
    {
      "cell_type": "code",
      "source": [
        "from wordcloud import WordCloud\n",
        "word_cloud = WordCloud(collocations = False, background_color = 'white').generate(st)\n",
        "plt.imshow(word_cloud)\n",
        "plt.show()"
      ],
      "metadata": {
        "id": "VVfXb5P0gVyj",
        "outputId": "3f4f0d52-010f-4f8d-d298-8b4188784378",
        "colab": {
          "base_uri": "https://localhost:8080/",
          "height": 219
        }
      },
      "execution_count": null,
      "outputs": [
        {
          "output_type": "display_data",
          "data": {
            "text/plain": [
              "<Figure size 432x288 with 1 Axes>"
            ],
            "image/png": "[encoded data removed]"
          },
          "metadata": {
            "needs_background": "light"
          }
        }
      ]
    }
  ]
}