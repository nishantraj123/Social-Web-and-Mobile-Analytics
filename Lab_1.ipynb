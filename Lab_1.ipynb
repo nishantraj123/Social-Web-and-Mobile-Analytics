{
  "nbformat": 4,
  "nbformat_minor": 0,
  "metadata": {
    "colab": {
      "name": "Lab-1.ipynb",
      "provenance": [],
      "authorship_tag": "ABX9TyPNXk6b+oq+h+Blez48tMqP",
      "include_colab_link": true
    },
    "kernelspec": {
      "name": "python3",
      "display_name": "Python 3"
    },
    "language_info": {
      "name": "python"
    }
  },
  "cells": [
    {
      "cell_type": "markdown",
      "metadata": {
        "id": "view-in-github",
        "colab_type": "text"
      },
      "source": [
        "<a href=\"https://colab.research.google.com/github/nishantraj123/Social-Web-and-Mobile-Analytics/blob/main/Lab_1.ipynb\" target=\"_parent\"><img src=\"https://colab.research.google.com/assets/colab-badge.svg\" alt=\"Open In Colab\"/></a>"
      ]
    },
    {
      "cell_type": "markdown",
      "source": [
        "**Q.** Write a code to load csv file containing information about employees of a company in python and draw a graph showing average salary depeartment wise."
      ],
      "metadata": {
        "id": "i9PN-TkxYqZd"
      }
    },
    {
      "cell_type": "code",
      "source": [
        "import pandas as pd\n",
        "import numpy as np"
      ],
      "metadata": {
        "id": "tDxFhK9GRCka"
      },
      "execution_count": 1,
      "outputs": []
    },
    {
      "cell_type": "code",
      "source": [
        "df=pd.read_csv(\"Salaries.csv\")\n"
      ],
      "metadata": {
        "colab": {
          "base_uri": "https://localhost:8080/"
        },
        "id": "0K0XG8ovRTCe",
        "outputId": "32acef77-557d-4cb8-f0b1-7d7aab01d369"
      },
      "execution_count": 5,
      "outputs": [
        {
          "output_type": "stream",
          "name": "stderr",
          "text": [
            "/usr/local/lib/python3.7/dist-packages/IPython/core/interactiveshell.py:2882: DtypeWarning: Columns (3,4,5,6,12) have mixed types.Specify dtype option on import or set low_memory=False.\n",
            "  exec(code_obj, self.user_global_ns, self.user_ns)\n"
          ]
        }
      ]
    },
    {
      "cell_type": "code",
      "source": [
        "df.shape"
      ],
      "metadata": {
        "colab": {
          "base_uri": "https://localhost:8080/"
        },
        "id": "udKkN1OPR6be",
        "outputId": "d5fc60bb-9181-414c-a37e-769f52449919"
      },
      "execution_count": 6,
      "outputs": [
        {
          "output_type": "execute_result",
          "data": {
            "text/plain": [
              "(148654, 13)"
            ]
          },
          "metadata": {},
          "execution_count": 6
        }
      ]
    },
    {
      "cell_type": "code",
      "source": [
        "df.columns"
      ],
      "metadata": {
        "colab": {
          "base_uri": "https://localhost:8080/"
        },
        "id": "jXtOVYdXVZ7d",
        "outputId": "4b50ebb2-fdac-4d49-a278-85e287288d5d"
      },
      "execution_count": 20,
      "outputs": [
        {
          "output_type": "execute_result",
          "data": {
            "text/plain": [
              "Index(['Id', 'EmployeeName', 'JobTitle', 'BasePay', 'OvertimePay', 'OtherPay',\n",
              "       'Benefits', 'TotalPay', 'TotalPayBenefits', 'Year', 'Notes', 'Agency',\n",
              "       'Status'],\n",
              "      dtype='object')"
            ]
          },
          "metadata": {},
          "execution_count": 20
        }
      ]
    },
    {
      "cell_type": "code",
      "source": [
        "total_Salary=df['TotalPay'].sum()"
      ],
      "metadata": {
        "id": "xOUQE5sbSqAO"
      },
      "execution_count": 16,
      "outputs": []
    },
    {
      "cell_type": "code",
      "source": [
        "print(total_Salary)"
      ],
      "metadata": {
        "colab": {
          "base_uri": "https://localhost:8080/"
        },
        "id": "Q-FXsZlUTUGI",
        "outputId": "179d971c-6cf6-4e0d-d7e4-e368e691079a"
      },
      "execution_count": 17,
      "outputs": [
        {
          "output_type": "stream",
          "name": "stdout",
          "text": [
            "11114610134.380001\n"
          ]
        }
      ]
    },
    {
      "cell_type": "code",
      "source": [
        "groupby_sum1 =df.groupby(['JobTitle']).sum()\n",
        "print(groupby_sum1)"
      ],
      "metadata": {
        "colab": {
          "base_uri": "https://localhost:8080/"
        },
        "id": "XyYC9WtJWNeK",
        "outputId": "12bd1503-3ede-415c-e760-92212f0eac48"
      },
      "execution_count": 22,
      "outputs": [
        {
          "output_type": "stream",
          "name": "stdout",
          "text": [
            "                                                     Id  ...  Notes\n",
            "JobTitle                                                 ...       \n",
            "ACCOUNT CLERK                                   2135990  ...    0.0\n",
            "ACCOUNTANT                                       120796  ...    0.0\n",
            "ACCOUNTANT INTERN                               1350184  ...    0.0\n",
            "ACPO,JuvP, Juv Prob (SFERS)                      135284  ...    0.0\n",
            "ACUPUNCTURIST                                     18379  ...    0.0\n",
            "...                                                 ...  ...    ...\n",
            "X-RAY LABORATORY AIDE                            585054  ...    0.0\n",
            "X-Ray Laboratory Aide                           9889062  ...    0.0\n",
            "YOUTH COMMISSION ADVISOR, BOARD OF SUPERVISORS    23392  ...    0.0\n",
            "Youth Comm Advisor                               398711  ...    0.0\n",
            "ZOO CURATOR                                       18779  ...    0.0\n",
            "\n",
            "[2159 rows x 5 columns]\n"
          ]
        }
      ]
    },
    {
      "cell_type": "code",
      "source": [
        "groupby_count1=df.groupby(['JobTitle']).count()\n",
        "print(groupby_count1)"
      ],
      "metadata": {
        "colab": {
          "base_uri": "https://localhost:8080/"
        },
        "id": "xWyFQ4nOWnxz",
        "outputId": "c96bfdc4-45a7-4d7f-ba7c-80340cec6724"
      },
      "execution_count": 23,
      "outputs": [
        {
          "output_type": "stream",
          "name": "stdout",
          "text": [
            "                                                 Id  ...  Status\n",
            "JobTitle                                             ...        \n",
            "ACCOUNT CLERK                                    83  ...       0\n",
            "ACCOUNTANT                                        5  ...       0\n",
            "ACCOUNTANT INTERN                                48  ...       0\n",
            "ACPO,JuvP, Juv Prob (SFERS)                       1  ...       1\n",
            "ACUPUNCTURIST                                     1  ...       0\n",
            "...                                             ...  ...     ...\n",
            "X-RAY LABORATORY AIDE                            26  ...       0\n",
            "X-Ray Laboratory Aide                           100  ...      35\n",
            "YOUTH COMMISSION ADVISOR, BOARD OF SUPERVISORS    1  ...       0\n",
            "Youth Comm Advisor                                4  ...       1\n",
            "ZOO CURATOR                                       1  ...       0\n",
            "\n",
            "[2159 rows x 12 columns]\n"
          ]
        }
      ]
    },
    {
      "cell_type": "code",
      "source": [
        "groupby_avg = groupby_sum1/groupby_count1\n",
        "print(groupby_avg)"
      ],
      "metadata": {
        "colab": {
          "base_uri": "https://localhost:8080/"
        },
        "id": "xhtwEUuDXI8W",
        "outputId": "0d9bc96b-17c6-4422-bcc9-209a77330498"
      },
      "execution_count": 24,
      "outputs": [
        {
          "output_type": "stream",
          "name": "stdout",
          "text": [
            "                                                Agency  ...     Year\n",
            "JobTitle                                                ...         \n",
            "ACCOUNT CLERK                                      NaN  ...  2011.00\n",
            "ACCOUNTANT                                         NaN  ...  2011.00\n",
            "ACCOUNTANT INTERN                                  NaN  ...  2011.00\n",
            "ACPO,JuvP, Juv Prob (SFERS)                        NaN  ...  2014.00\n",
            "ACUPUNCTURIST                                      NaN  ...  2011.00\n",
            "...                                                ...  ...      ...\n",
            "X-RAY LABORATORY AIDE                              NaN  ...  2011.00\n",
            "X-Ray Laboratory Aide                              NaN  ...  2013.04\n",
            "YOUTH COMMISSION ADVISOR, BOARD OF SUPERVISORS     NaN  ...  2011.00\n",
            "Youth Comm Advisor                                 NaN  ...  2013.00\n",
            "ZOO CURATOR                                        NaN  ...  2011.00\n",
            "\n",
            "[2159 rows x 12 columns]\n"
          ]
        }
      ]
    },
    {
      "cell_type": "code",
      "source": [
        "import matplotlib.pyplot as plt\n",
        "plt.plot(groupby_avg['TotalPay'])"
      ],
      "metadata": {
        "colab": {
          "base_uri": "https://localhost:8080/",
          "height": 282
        },
        "id": "YWgGMfrGXbjO",
        "outputId": "b0c5b1cd-1b7e-40fb-a496-e871610f622b"
      },
      "execution_count": 25,
      "outputs": [
        {
          "output_type": "execute_result",
          "data": {
            "text/plain": [
              "[<matplotlib.lines.Line2D at 0x7f1c0d0c8a10>]"
            ]
          },
          "metadata": {},
          "execution_count": 25
        },
        {
          "output_type": "display_data",
          "data": {
            "image/png": "[encoded data removed]",
            "text/plain": [
              "<Figure size 432x288 with 1 Axes>"
            ]
          },
          "metadata": {
            "needs_background": "light"
          }
        }
      ]
    }
  ]
}